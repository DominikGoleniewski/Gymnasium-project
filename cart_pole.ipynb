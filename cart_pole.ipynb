{
  "nbformat": 4,
  "nbformat_minor": 0,
  "metadata": {
    "colab": {
      "provenance": [],
      "authorship_tag": "ABX9TyMM0+jZD9mg93YPwbmRm6on",
      "include_colab_link": true
    },
    "kernelspec": {
      "name": "python3",
      "display_name": "Python 3"
    },
    "language_info": {
      "name": "python"
    }
  },
  "cells": [
    {
      "cell_type": "markdown",
      "metadata": {
        "id": "view-in-github",
        "colab_type": "text"
      },
      "source": [
        "<a href=\"https://colab.research.google.com/github/DominikGoleniewski/Gymnasium-project/blob/main/cart_pole.ipynb\" target=\"_parent\"><img src=\"https://colab.research.google.com/assets/colab-badge.svg\" alt=\"Open In Colab\"/></a>"
      ]
    },
    {
      "cell_type": "code",
      "source": [
        "#!pip cache purge\n",
        "!apt update && apt install xvfb\n",
        "!pip install gym-notebook-wrapper\n",
        "!pip install cmake\n",
        "!pip install swig\n",
        "!pip install gym[classic_control]==0.25.2\n",
        "!pip install gym[box2d]==0.25.2\n",
        "!pip install opencv-python-headless\n",
        "!pip install stable-baselines3==2.1.0\n",
        "!pip install pyglet==1.5.27"
      ],
      "metadata": {
        "colab": {
          "base_uri": "https://localhost:8080/"
        },
        "id": "5wzaRtz3Ts5O",
        "outputId": "fc37353c-54f1-4a1a-e101-1b850122d0c2"
      },
      "execution_count": 1,
      "outputs": [
        {
          "output_type": "stream",
          "name": "stdout",
          "text": [
            "\u001b[33m\r0% [Working]\u001b[0m\r            \rGet:1 https://cloud.r-project.org/bin/linux/ubuntu jammy-cran40/ InRelease [3,626 B]\n",
            "\u001b[33m\r0% [Waiting for headers] [Waiting for headers] [1 InRelease 0 B/3,626 B 0%] [Connecting to ppa.launc\u001b[0m\u001b[33m\r0% [Waiting for headers] [Waiting for headers] [Connecting to ppa.launchpadcontent.net (185.125.190.\u001b[0m\r                                                                                                    \rHit:2 https://developer.download.nvidia.com/compute/cuda/repos/ubuntu2204/x86_64  InRelease\n",
            "\u001b[33m\r0% [Waiting for headers] [Waiting for headers] [Connecting to ppa.launchpadcontent.net (185.125.190.\u001b[0m\r                                                                                                    \rHit:3 http://archive.ubuntu.com/ubuntu jammy InRelease\n",
            "Get:4 http://security.ubuntu.com/ubuntu jammy-security InRelease [110 kB]\n",
            "Get:5 http://archive.ubuntu.com/ubuntu jammy-updates InRelease [119 kB]\n",
            "Get:6 http://archive.ubuntu.com/ubuntu jammy-backports InRelease [109 kB]\n",
            "Get:7 http://security.ubuntu.com/ubuntu jammy-security/universe amd64 Packages [1,005 kB]\n",
            "Hit:8 https://ppa.launchpadcontent.net/c2d4u.team/c2d4u4.0+/ubuntu jammy InRelease\n",
            "Get:9 http://archive.ubuntu.com/ubuntu jammy-updates/main amd64 Packages [1,347 kB]\n",
            "Get:10 http://archive.ubuntu.com/ubuntu jammy-updates/universe amd64 Packages [1,270 kB]\n",
            "Hit:11 https://ppa.launchpadcontent.net/deadsnakes/ppa/ubuntu jammy InRelease\n",
            "Hit:12 https://ppa.launchpadcontent.net/graphics-drivers/ppa/ubuntu jammy InRelease\n",
            "Hit:13 https://ppa.launchpadcontent.net/ubuntugis/ppa/ubuntu jammy InRelease\n",
            "Fetched 3,963 kB in 3s (1,584 kB/s)\n",
            "Reading package lists... Done\n",
            "Building dependency tree... Done\n",
            "Reading state information... Done\n",
            "18 packages can be upgraded. Run 'apt list --upgradable' to see them.\n",
            "Reading package lists... Done\n",
            "Building dependency tree... Done\n",
            "Reading state information... Done\n",
            "The following additional packages will be installed:\n",
            "  libfontenc1 libxfont2 libxkbfile1 x11-xkb-utils xfonts-base xfonts-encodings xfonts-utils\n",
            "  xserver-common\n",
            "The following NEW packages will be installed:\n",
            "  libfontenc1 libxfont2 libxkbfile1 x11-xkb-utils xfonts-base xfonts-encodings xfonts-utils\n",
            "  xserver-common xvfb\n",
            "0 upgraded, 9 newly installed, 0 to remove and 18 not upgraded.\n",
            "Need to get 7,812 kB of archives.\n",
            "After this operation, 11.9 MB of additional disk space will be used.\n",
            "Get:1 http://archive.ubuntu.com/ubuntu jammy/main amd64 libfontenc1 amd64 1:1.1.4-1build3 [14.7 kB]\n",
            "Get:2 http://archive.ubuntu.com/ubuntu jammy/main amd64 libxfont2 amd64 1:2.0.5-1build1 [94.5 kB]\n",
            "Get:3 http://archive.ubuntu.com/ubuntu jammy/main amd64 libxkbfile1 amd64 1:1.1.0-1build3 [71.8 kB]\n",
            "Get:4 http://archive.ubuntu.com/ubuntu jammy/main amd64 x11-xkb-utils amd64 7.7+5build4 [172 kB]\n",
            "Get:5 http://archive.ubuntu.com/ubuntu jammy/main amd64 xfonts-encodings all 1:1.0.5-0ubuntu2 [578 kB]\n",
            "Get:6 http://archive.ubuntu.com/ubuntu jammy/main amd64 xfonts-utils amd64 1:7.7+6build2 [94.6 kB]\n",
            "Get:7 http://archive.ubuntu.com/ubuntu jammy/main amd64 xfonts-base all 1:1.0.5 [5,896 kB]\n",
            "Get:8 http://archive.ubuntu.com/ubuntu jammy-updates/main amd64 xserver-common all 2:21.1.4-2ubuntu1.7~22.04.1 [28.0 kB]\n",
            "Get:9 http://archive.ubuntu.com/ubuntu jammy-updates/universe amd64 xvfb amd64 2:21.1.4-2ubuntu1.7~22.04.1 [863 kB]\n",
            "Fetched 7,812 kB in 2s (4,108 kB/s)\n",
            "Selecting previously unselected package libfontenc1:amd64.\n",
            "(Reading database ... 120875 files and directories currently installed.)\n",
            "Preparing to unpack .../0-libfontenc1_1%3a1.1.4-1build3_amd64.deb ...\n",
            "Unpacking libfontenc1:amd64 (1:1.1.4-1build3) ...\n",
            "Selecting previously unselected package libxfont2:amd64.\n",
            "Preparing to unpack .../1-libxfont2_1%3a2.0.5-1build1_amd64.deb ...\n",
            "Unpacking libxfont2:amd64 (1:2.0.5-1build1) ...\n",
            "Selecting previously unselected package libxkbfile1:amd64.\n",
            "Preparing to unpack .../2-libxkbfile1_1%3a1.1.0-1build3_amd64.deb ...\n",
            "Unpacking libxkbfile1:amd64 (1:1.1.0-1build3) ...\n",
            "Selecting previously unselected package x11-xkb-utils.\n",
            "Preparing to unpack .../3-x11-xkb-utils_7.7+5build4_amd64.deb ...\n",
            "Unpacking x11-xkb-utils (7.7+5build4) ...\n",
            "Selecting previously unselected package xfonts-encodings.\n",
            "Preparing to unpack .../4-xfonts-encodings_1%3a1.0.5-0ubuntu2_all.deb ...\n",
            "Unpacking xfonts-encodings (1:1.0.5-0ubuntu2) ...\n",
            "Selecting previously unselected package xfonts-utils.\n",
            "Preparing to unpack .../5-xfonts-utils_1%3a7.7+6build2_amd64.deb ...\n",
            "Unpacking xfonts-utils (1:7.7+6build2) ...\n",
            "Selecting previously unselected package xfonts-base.\n",
            "Preparing to unpack .../6-xfonts-base_1%3a1.0.5_all.deb ...\n",
            "Unpacking xfonts-base (1:1.0.5) ...\n",
            "Selecting previously unselected package xserver-common.\n",
            "Preparing to unpack .../7-xserver-common_2%3a21.1.4-2ubuntu1.7~22.04.1_all.deb ...\n",
            "Unpacking xserver-common (2:21.1.4-2ubuntu1.7~22.04.1) ...\n",
            "Selecting previously unselected package xvfb.\n",
            "Preparing to unpack .../8-xvfb_2%3a21.1.4-2ubuntu1.7~22.04.1_amd64.deb ...\n",
            "Unpacking xvfb (2:21.1.4-2ubuntu1.7~22.04.1) ...\n",
            "Setting up libfontenc1:amd64 (1:1.1.4-1build3) ...\n",
            "Setting up xfonts-encodings (1:1.0.5-0ubuntu2) ...\n",
            "Setting up libxkbfile1:amd64 (1:1.1.0-1build3) ...\n",
            "Setting up libxfont2:amd64 (1:2.0.5-1build1) ...\n",
            "Setting up x11-xkb-utils (7.7+5build4) ...\n",
            "Setting up xfonts-utils (1:7.7+6build2) ...\n",
            "Setting up xfonts-base (1:1.0.5) ...\n",
            "Setting up xserver-common (2:21.1.4-2ubuntu1.7~22.04.1) ...\n",
            "Setting up xvfb (2:21.1.4-2ubuntu1.7~22.04.1) ...\n",
            "Processing triggers for man-db (2.10.2-1) ...\n",
            "Processing triggers for fontconfig (2.13.1-4.2ubuntu5) ...\n",
            "Processing triggers for libc-bin (2.35-0ubuntu3.1) ...\n",
            "/sbin/ldconfig.real: /usr/local/lib/libtbbbind_2_0.so.3 is not a symbolic link\n",
            "\n",
            "/sbin/ldconfig.real: /usr/local/lib/libtbbmalloc.so.2 is not a symbolic link\n",
            "\n",
            "/sbin/ldconfig.real: /usr/local/lib/libtbbbind_2_5.so.3 is not a symbolic link\n",
            "\n",
            "/sbin/ldconfig.real: /usr/local/lib/libtbbmalloc_proxy.so.2 is not a symbolic link\n",
            "\n",
            "/sbin/ldconfig.real: /usr/local/lib/libtbb.so.12 is not a symbolic link\n",
            "\n",
            "/sbin/ldconfig.real: /usr/local/lib/libtbbbind.so.3 is not a symbolic link\n",
            "\n",
            "Collecting gym-notebook-wrapper\n",
            "  Downloading gym_notebook_wrapper-1.3.3-py3-none-any.whl (9.9 kB)\n",
            "Requirement already satisfied: gym in /usr/local/lib/python3.10/dist-packages (from gym-notebook-wrapper) (0.25.2)\n",
            "Requirement already satisfied: matplotlib in /usr/local/lib/python3.10/dist-packages (from gym-notebook-wrapper) (3.7.1)\n",
            "Collecting pyvirtualdisplay (from gym-notebook-wrapper)\n",
            "  Downloading PyVirtualDisplay-3.0-py3-none-any.whl (15 kB)\n",
            "Requirement already satisfied: ipython in /usr/local/lib/python3.10/dist-packages (from gym-notebook-wrapper) (7.34.0)\n",
            "Requirement already satisfied: moviepy in /usr/local/lib/python3.10/dist-packages (from gym-notebook-wrapper) (1.0.3)\n",
            "Requirement already satisfied: numpy>=1.18.0 in /usr/local/lib/python3.10/dist-packages (from gym->gym-notebook-wrapper) (1.23.5)\n",
            "Requirement already satisfied: cloudpickle>=1.2.0 in /usr/local/lib/python3.10/dist-packages (from gym->gym-notebook-wrapper) (2.2.1)\n",
            "Requirement already satisfied: gym-notices>=0.0.4 in /usr/local/lib/python3.10/dist-packages (from gym->gym-notebook-wrapper) (0.0.8)\n",
            "Requirement already satisfied: setuptools>=18.5 in /usr/local/lib/python3.10/dist-packages (from ipython->gym-notebook-wrapper) (67.7.2)\n",
            "Collecting jedi>=0.16 (from ipython->gym-notebook-wrapper)\n",
            "  Downloading jedi-0.19.1-py2.py3-none-any.whl (1.6 MB)\n",
            "\u001b[2K     \u001b[90m━━━━━━━━━━━━━━━━━━━━━━━━━━━━━━━━━━━━━━━━\u001b[0m \u001b[32m1.6/1.6 MB\u001b[0m \u001b[31m30.4 MB/s\u001b[0m eta \u001b[36m0:00:00\u001b[0m\n",
            "\u001b[?25hRequirement already satisfied: decorator in /usr/local/lib/python3.10/dist-packages (from ipython->gym-notebook-wrapper) (4.4.2)\n",
            "Requirement already satisfied: pickleshare in /usr/local/lib/python3.10/dist-packages (from ipython->gym-notebook-wrapper) (0.7.5)\n",
            "Requirement already satisfied: traitlets>=4.2 in /usr/local/lib/python3.10/dist-packages (from ipython->gym-notebook-wrapper) (5.7.1)\n",
            "Requirement already satisfied: prompt-toolkit!=3.0.0,!=3.0.1,<3.1.0,>=2.0.0 in /usr/local/lib/python3.10/dist-packages (from ipython->gym-notebook-wrapper) (3.0.39)\n",
            "Requirement already satisfied: pygments in /usr/local/lib/python3.10/dist-packages (from ipython->gym-notebook-wrapper) (2.16.1)\n",
            "Requirement already satisfied: backcall in /usr/local/lib/python3.10/dist-packages (from ipython->gym-notebook-wrapper) (0.2.0)\n",
            "Requirement already satisfied: matplotlib-inline in /usr/local/lib/python3.10/dist-packages (from ipython->gym-notebook-wrapper) (0.1.6)\n",
            "Requirement already satisfied: pexpect>4.3 in /usr/local/lib/python3.10/dist-packages (from ipython->gym-notebook-wrapper) (4.8.0)\n",
            "Requirement already satisfied: contourpy>=1.0.1 in /usr/local/lib/python3.10/dist-packages (from matplotlib->gym-notebook-wrapper) (1.1.1)\n",
            "Requirement already satisfied: cycler>=0.10 in /usr/local/lib/python3.10/dist-packages (from matplotlib->gym-notebook-wrapper) (0.12.1)\n",
            "Requirement already satisfied: fonttools>=4.22.0 in /usr/local/lib/python3.10/dist-packages (from matplotlib->gym-notebook-wrapper) (4.43.1)\n",
            "Requirement already satisfied: kiwisolver>=1.0.1 in /usr/local/lib/python3.10/dist-packages (from matplotlib->gym-notebook-wrapper) (1.4.5)\n",
            "Requirement already satisfied: packaging>=20.0 in /usr/local/lib/python3.10/dist-packages (from matplotlib->gym-notebook-wrapper) (23.2)\n",
            "Requirement already satisfied: pillow>=6.2.0 in /usr/local/lib/python3.10/dist-packages (from matplotlib->gym-notebook-wrapper) (9.4.0)\n",
            "Requirement already satisfied: pyparsing>=2.3.1 in /usr/local/lib/python3.10/dist-packages (from matplotlib->gym-notebook-wrapper) (3.1.1)\n",
            "Requirement already satisfied: python-dateutil>=2.7 in /usr/local/lib/python3.10/dist-packages (from matplotlib->gym-notebook-wrapper) (2.8.2)\n",
            "Requirement already satisfied: tqdm<5.0,>=4.11.2 in /usr/local/lib/python3.10/dist-packages (from moviepy->gym-notebook-wrapper) (4.66.1)\n",
            "Requirement already satisfied: requests<3.0,>=2.8.1 in /usr/local/lib/python3.10/dist-packages (from moviepy->gym-notebook-wrapper) (2.31.0)\n",
            "Requirement already satisfied: proglog<=1.0.0 in /usr/local/lib/python3.10/dist-packages (from moviepy->gym-notebook-wrapper) (0.1.10)\n",
            "Requirement already satisfied: imageio<3.0,>=2.5 in /usr/local/lib/python3.10/dist-packages (from moviepy->gym-notebook-wrapper) (2.31.5)\n",
            "Requirement already satisfied: imageio-ffmpeg>=0.2.0 in /usr/local/lib/python3.10/dist-packages (from moviepy->gym-notebook-wrapper) (0.4.9)\n",
            "Requirement already satisfied: parso<0.9.0,>=0.8.3 in /usr/local/lib/python3.10/dist-packages (from jedi>=0.16->ipython->gym-notebook-wrapper) (0.8.3)\n",
            "Requirement already satisfied: ptyprocess>=0.5 in /usr/local/lib/python3.10/dist-packages (from pexpect>4.3->ipython->gym-notebook-wrapper) (0.7.0)\n",
            "Requirement already satisfied: wcwidth in /usr/local/lib/python3.10/dist-packages (from prompt-toolkit!=3.0.0,!=3.0.1,<3.1.0,>=2.0.0->ipython->gym-notebook-wrapper) (0.2.8)\n",
            "Requirement already satisfied: six>=1.5 in /usr/local/lib/python3.10/dist-packages (from python-dateutil>=2.7->matplotlib->gym-notebook-wrapper) (1.16.0)\n",
            "Requirement already satisfied: charset-normalizer<4,>=2 in /usr/local/lib/python3.10/dist-packages (from requests<3.0,>=2.8.1->moviepy->gym-notebook-wrapper) (3.3.0)\n",
            "Requirement already satisfied: idna<4,>=2.5 in /usr/local/lib/python3.10/dist-packages (from requests<3.0,>=2.8.1->moviepy->gym-notebook-wrapper) (3.4)\n",
            "Requirement already satisfied: urllib3<3,>=1.21.1 in /usr/local/lib/python3.10/dist-packages (from requests<3.0,>=2.8.1->moviepy->gym-notebook-wrapper) (2.0.6)\n",
            "Requirement already satisfied: certifi>=2017.4.17 in /usr/local/lib/python3.10/dist-packages (from requests<3.0,>=2.8.1->moviepy->gym-notebook-wrapper) (2023.7.22)\n",
            "Installing collected packages: pyvirtualdisplay, jedi, gym-notebook-wrapper\n",
            "Successfully installed gym-notebook-wrapper-1.3.3 jedi-0.19.1 pyvirtualdisplay-3.0\n",
            "Requirement already satisfied: cmake in /usr/local/lib/python3.10/dist-packages (3.27.6)\n",
            "Collecting swig\n",
            "  Downloading swig-4.1.1-py2.py3-none-manylinux_2_5_x86_64.manylinux1_x86_64.whl (1.8 MB)\n",
            "\u001b[2K     \u001b[90m━━━━━━━━━━━━━━━━━━━━━━━━━━━━━━━━━━━━━━━━\u001b[0m \u001b[32m1.8/1.8 MB\u001b[0m \u001b[31m10.4 MB/s\u001b[0m eta \u001b[36m0:00:00\u001b[0m\n",
            "\u001b[?25hInstalling collected packages: swig\n",
            "Successfully installed swig-4.1.1\n",
            "Requirement already satisfied: gym[classic_control]==0.25.2 in /usr/local/lib/python3.10/dist-packages (0.25.2)\n",
            "Requirement already satisfied: numpy>=1.18.0 in /usr/local/lib/python3.10/dist-packages (from gym[classic_control]==0.25.2) (1.23.5)\n",
            "Requirement already satisfied: cloudpickle>=1.2.0 in /usr/local/lib/python3.10/dist-packages (from gym[classic_control]==0.25.2) (2.2.1)\n",
            "Requirement already satisfied: gym-notices>=0.0.4 in /usr/local/lib/python3.10/dist-packages (from gym[classic_control]==0.25.2) (0.0.8)\n",
            "Collecting pygame==2.1.0 (from gym[classic_control]==0.25.2)\n",
            "  Downloading pygame-2.1.0-cp310-cp310-manylinux_2_17_x86_64.manylinux2014_x86_64.whl (18.3 MB)\n",
            "\u001b[2K     \u001b[90m━━━━━━━━━━━━━━━━━━━━━━━━━━━━━━━━━━━━━━━━\u001b[0m \u001b[32m18.3/18.3 MB\u001b[0m \u001b[31m49.6 MB/s\u001b[0m eta \u001b[36m0:00:00\u001b[0m\n",
            "\u001b[?25hInstalling collected packages: pygame\n",
            "  Attempting uninstall: pygame\n",
            "    Found existing installation: pygame 2.5.2\n",
            "    Uninstalling pygame-2.5.2:\n",
            "      Successfully uninstalled pygame-2.5.2\n",
            "Successfully installed pygame-2.1.0\n",
            "Requirement already satisfied: gym[box2d]==0.25.2 in /usr/local/lib/python3.10/dist-packages (0.25.2)\n",
            "Requirement already satisfied: numpy>=1.18.0 in /usr/local/lib/python3.10/dist-packages (from gym[box2d]==0.25.2) (1.23.5)\n",
            "Requirement already satisfied: cloudpickle>=1.2.0 in /usr/local/lib/python3.10/dist-packages (from gym[box2d]==0.25.2) (2.2.1)\n",
            "Requirement already satisfied: gym-notices>=0.0.4 in /usr/local/lib/python3.10/dist-packages (from gym[box2d]==0.25.2) (0.0.8)\n",
            "Collecting box2d-py==2.3.5 (from gym[box2d]==0.25.2)\n",
            "  Downloading box2d-py-2.3.5.tar.gz (374 kB)\n",
            "\u001b[2K     \u001b[90m━━━━━━━━━━━━━━━━━━━━━━━━━━━━━━━━━━━━━━━━\u001b[0m \u001b[32m374.4/374.4 kB\u001b[0m \u001b[31m6.2 MB/s\u001b[0m eta \u001b[36m0:00:00\u001b[0m\n",
            "\u001b[?25h  Preparing metadata (setup.py) ... \u001b[?25l\u001b[?25hdone\n",
            "Requirement already satisfied: pygame==2.1.0 in /usr/local/lib/python3.10/dist-packages (from gym[box2d]==0.25.2) (2.1.0)\n",
            "Requirement already satisfied: swig==4.* in /usr/local/lib/python3.10/dist-packages (from gym[box2d]==0.25.2) (4.1.1)\n",
            "Building wheels for collected packages: box2d-py\n",
            "  Building wheel for box2d-py (setup.py) ... \u001b[?25l\u001b[?25hdone\n",
            "  Created wheel for box2d-py: filename=box2d_py-2.3.5-cp310-cp310-linux_x86_64.whl size=2373076 sha256=8a2c39edb7ef898b08e5983d7e11457d57529df9f6f64d09877bfdf932761676\n",
            "  Stored in directory: /root/.cache/pip/wheels/db/8f/6a/eaaadf056fba10a98d986f6dce954e6201ba3126926fc5ad9e\n",
            "Successfully built box2d-py\n",
            "Installing collected packages: box2d-py\n",
            "Successfully installed box2d-py-2.3.5\n",
            "Requirement already satisfied: opencv-python-headless in /usr/local/lib/python3.10/dist-packages (4.8.1.78)\n",
            "Requirement already satisfied: numpy>=1.21.2 in /usr/local/lib/python3.10/dist-packages (from opencv-python-headless) (1.23.5)\n",
            "Collecting stable-baselines3==2.1.0\n",
            "  Downloading stable_baselines3-2.1.0-py3-none-any.whl (178 kB)\n",
            "\u001b[2K     \u001b[90m━━━━━━━━━━━━━━━━━━━━━━━━━━━━━━━━━━━━━━━━\u001b[0m \u001b[32m178.7/178.7 kB\u001b[0m \u001b[31m4.7 MB/s\u001b[0m eta \u001b[36m0:00:00\u001b[0m\n",
            "\u001b[?25hCollecting gymnasium<0.30,>=0.28.1 (from stable-baselines3==2.1.0)\n",
            "  Downloading gymnasium-0.29.1-py3-none-any.whl (953 kB)\n",
            "\u001b[2K     \u001b[90m━━━━━━━━━━━━━━━━━━━━━━━━━━━━━━━━━━━━━━━━\u001b[0m \u001b[32m953.9/953.9 kB\u001b[0m \u001b[31m18.6 MB/s\u001b[0m eta \u001b[36m0:00:00\u001b[0m\n",
            "\u001b[?25hRequirement already satisfied: numpy>=1.20 in /usr/local/lib/python3.10/dist-packages (from stable-baselines3==2.1.0) (1.23.5)\n",
            "Requirement already satisfied: torch>=1.13 in /usr/local/lib/python3.10/dist-packages (from stable-baselines3==2.1.0) (2.0.1+cu118)\n",
            "Requirement already satisfied: cloudpickle in /usr/local/lib/python3.10/dist-packages (from stable-baselines3==2.1.0) (2.2.1)\n",
            "Requirement already satisfied: pandas in /usr/local/lib/python3.10/dist-packages (from stable-baselines3==2.1.0) (1.5.3)\n",
            "Requirement already satisfied: matplotlib in /usr/local/lib/python3.10/dist-packages (from stable-baselines3==2.1.0) (3.7.1)\n",
            "Requirement already satisfied: typing-extensions>=4.3.0 in /usr/local/lib/python3.10/dist-packages (from gymnasium<0.30,>=0.28.1->stable-baselines3==2.1.0) (4.5.0)\n",
            "Collecting farama-notifications>=0.0.1 (from gymnasium<0.30,>=0.28.1->stable-baselines3==2.1.0)\n",
            "  Downloading Farama_Notifications-0.0.4-py3-none-any.whl (2.5 kB)\n",
            "Requirement already satisfied: filelock in /usr/local/lib/python3.10/dist-packages (from torch>=1.13->stable-baselines3==2.1.0) (3.12.4)\n",
            "Requirement already satisfied: sympy in /usr/local/lib/python3.10/dist-packages (from torch>=1.13->stable-baselines3==2.1.0) (1.12)\n",
            "Requirement already satisfied: networkx in /usr/local/lib/python3.10/dist-packages (from torch>=1.13->stable-baselines3==2.1.0) (3.1)\n",
            "Requirement already satisfied: jinja2 in /usr/local/lib/python3.10/dist-packages (from torch>=1.13->stable-baselines3==2.1.0) (3.1.2)\n",
            "Requirement already satisfied: triton==2.0.0 in /usr/local/lib/python3.10/dist-packages (from torch>=1.13->stable-baselines3==2.1.0) (2.0.0)\n",
            "Requirement already satisfied: cmake in /usr/local/lib/python3.10/dist-packages (from triton==2.0.0->torch>=1.13->stable-baselines3==2.1.0) (3.27.6)\n",
            "Requirement already satisfied: lit in /usr/local/lib/python3.10/dist-packages (from triton==2.0.0->torch>=1.13->stable-baselines3==2.1.0) (17.0.2)\n",
            "Requirement already satisfied: contourpy>=1.0.1 in /usr/local/lib/python3.10/dist-packages (from matplotlib->stable-baselines3==2.1.0) (1.1.1)\n",
            "Requirement already satisfied: cycler>=0.10 in /usr/local/lib/python3.10/dist-packages (from matplotlib->stable-baselines3==2.1.0) (0.12.1)\n",
            "Requirement already satisfied: fonttools>=4.22.0 in /usr/local/lib/python3.10/dist-packages (from matplotlib->stable-baselines3==2.1.0) (4.43.1)\n",
            "Requirement already satisfied: kiwisolver>=1.0.1 in /usr/local/lib/python3.10/dist-packages (from matplotlib->stable-baselines3==2.1.0) (1.4.5)\n",
            "Requirement already satisfied: packaging>=20.0 in /usr/local/lib/python3.10/dist-packages (from matplotlib->stable-baselines3==2.1.0) (23.2)\n",
            "Requirement already satisfied: pillow>=6.2.0 in /usr/local/lib/python3.10/dist-packages (from matplotlib->stable-baselines3==2.1.0) (9.4.0)\n",
            "Requirement already satisfied: pyparsing>=2.3.1 in /usr/local/lib/python3.10/dist-packages (from matplotlib->stable-baselines3==2.1.0) (3.1.1)\n",
            "Requirement already satisfied: python-dateutil>=2.7 in /usr/local/lib/python3.10/dist-packages (from matplotlib->stable-baselines3==2.1.0) (2.8.2)\n",
            "Requirement already satisfied: pytz>=2020.1 in /usr/local/lib/python3.10/dist-packages (from pandas->stable-baselines3==2.1.0) (2023.3.post1)\n",
            "Requirement already satisfied: six>=1.5 in /usr/local/lib/python3.10/dist-packages (from python-dateutil>=2.7->matplotlib->stable-baselines3==2.1.0) (1.16.0)\n",
            "Requirement already satisfied: MarkupSafe>=2.0 in /usr/local/lib/python3.10/dist-packages (from jinja2->torch>=1.13->stable-baselines3==2.1.0) (2.1.3)\n",
            "Requirement already satisfied: mpmath>=0.19 in /usr/local/lib/python3.10/dist-packages (from sympy->torch>=1.13->stable-baselines3==2.1.0) (1.3.0)\n",
            "Installing collected packages: farama-notifications, gymnasium, stable-baselines3\n",
            "Successfully installed farama-notifications-0.0.4 gymnasium-0.29.1 stable-baselines3-2.1.0\n",
            "Collecting pyglet==1.5.27\n",
            "  Downloading pyglet-1.5.27-py3-none-any.whl (1.1 MB)\n",
            "\u001b[2K     \u001b[90m━━━━━━━━━━━━━━━━━━━━━━━━━━━━━━━━━━━━━━━━\u001b[0m \u001b[32m1.1/1.1 MB\u001b[0m \u001b[31m19.1 MB/s\u001b[0m eta \u001b[36m0:00:00\u001b[0m\n",
            "\u001b[?25hInstalling collected packages: pyglet\n",
            "Successfully installed pyglet-1.5.27\n"
          ]
        }
      ]
    },
    {
      "cell_type": "code",
      "source": [
        "import gym\n",
        "from stable_baselines3 import A2C\n",
        "from stable_baselines3.common.env_util import make_vec_env\n",
        "\n",
        "SEED=56\n",
        "\n",
        "env = make_vec_env(\"CartPole-v1\", n_envs=10)\n",
        "env.seed(SEED)\n",
        "\n",
        "model = A2C(\"MlpPolicy\", env, verbose=0,\n",
        "            learning_rate=0.001,\n",
        "            gamma=0.99,\n",
        "            vf_coef=0.6,\n",
        "            ent_coef=0.001,\n",
        "            seed=SEED)\n",
        "\n",
        "model.learn(total_timesteps=100000, log_interval=10)\n",
        "model.save(\"A2C_cartpole_model\")"
      ],
      "metadata": {
        "id": "8QXr86hCUnq3"
      },
      "execution_count": 22,
      "outputs": []
    },
    {
      "cell_type": "code",
      "source": [
        "import gnwrapper\n",
        "env = gnwrapper.Monitor(gym.make(\"CartPole-v1\",render_mode=\"rgb_array\"),directory=\"./p/\")\n",
        "\n",
        "observation = env.reset()\n",
        "total_reward = 0\n",
        "while True:\n",
        "    action, _states = model.predict(observation)\n",
        "    observation, reward, done, info = env.step(action)\n",
        "    total_reward += reward\n",
        "    if done:\n",
        "        env.reset()\n",
        "        break\n",
        "env.display()\n",
        "print(env.videos)\n",
        "\n",
        "print(f\"Total reward: {total_reward}\")"
      ],
      "metadata": {
        "colab": {
          "base_uri": "https://localhost:8080/",
          "height": 1000
        },
        "id": "0QeNmv1cUpvV",
        "outputId": "8b6af700-a167-4dd9-9284-02e9d51a6b8d"
      },
      "execution_count": 23,
      "outputs": [
        {
          "output_type": "stream",
          "name": "stderr",
          "text": [
            "/usr/local/lib/python3.10/dist-packages/gym/core.py:317: DeprecationWarning: \u001b[33mWARN: Initializing wrapper in old step API which returns one bool instead of two. It is recommended to set `new_step_api=True` to use new step API. This will be the default behaviour in future.\u001b[0m\n",
            "  deprecation(\n",
            "/usr/local/lib/python3.10/dist-packages/gym/wrappers/step_api_compatibility.py:39: DeprecationWarning: \u001b[33mWARN: Initializing environment in old step API which returns one bool instead of two. It is recommended to set `new_step_api=True` to use new step API. This will be the default behaviour in future.\u001b[0m\n",
            "  deprecation(\n",
            "/usr/local/lib/python3.10/dist-packages/gym/wrappers/record_video.py:78: UserWarning: \u001b[33mWARN: Overwriting existing videos at /content/p folder (try specifying a different `video_folder` for the `RecordVideo` wrapper if this is not desired)\u001b[0m\n",
            "  logger.warn(\n"
          ]
        },
        {
          "output_type": "display_data",
          "data": {
            "text/plain": [
              "'rl-video-episode-0.mp4'"
            ],
            "application/vnd.google.colaboratory.intrinsic+json": {
              "type": "string"
            }
          },
          "metadata": {}
        },
        {
          "output_type": "display_data",
          "data": {
            "text/plain": [
              "<IPython.core.display.HTML object>"
            ],
            "text/html": [
              "\n",
              "            <video alt=\"rl-video-episode-0.mp4\" controls>\n",
              "            <source src=\"data:video/mp4;base64,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\" type=\"video/mp4\" />\n",
              "            </video>\n",
              "            "
            ]
          },
          "metadata": {}
        },
        {
          "output_type": "display_data",
          "data": {
            "text/plain": [
              "'rl-video-episode-1.mp4'"
            ],
            "application/vnd.google.colaboratory.intrinsic+json": {
              "type": "string"
            }
          },
          "metadata": {}
        },
        {
          "output_type": "display_data",
          "data": {
            "text/plain": [
              "<IPython.core.display.HTML object>"
            ],
            "text/html": [
              "\n",
              "            <video alt=\"rl-video-episode-1.mp4\" controls>\n",
              "            <source src=\"data:video/mp4;base64,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\" type=\"video/mp4\" />\n",
              "            </video>\n",
              "            "
            ]
          },
          "metadata": {}
        },
        {
          "output_type": "stream",
          "name": "stdout",
          "text": [
            "[('/content/p/rl-video-episode-0.mp4', '/content/p/rl-video-episode-0.meta.json'), ('/content/p/rl-video-episode-1.mp4', '/content/p/rl-video-episode-1.meta.json')]\n",
            "Total reward: 500.0\n"
          ]
        }
      ]
    },
    {
      "cell_type": "markdown",
      "source": [
        "\n"
      ],
      "metadata": {
        "id": "TSTtAUM7UFs6"
      }
    }
  ]
}